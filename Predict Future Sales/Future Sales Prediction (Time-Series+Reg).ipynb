{
  "cells": [
    {
      "metadata": {
        "_uuid": "c60ae8a672660248d996c476792492b55dd0ce7a"
      },
      "cell_type": "markdown",
      "source": "# Overview\nIn this competition you will work with a challenging time-series dataset consisting of daily sales data, kindly provided by one of the largest Russian software firms - 1C Company. \n\nWe are asking you to **predict total sales for every product and store in the next month**.  \n\nYou are provided with daily historical sales data. The task is to *forecast the total amount of products sold in every shop for the test set*. Note that **the list of shops and products slightly changes every month**. Creating a robust model that can handle such situations is part of the challenge.  \n"
    },
    {
      "metadata": {
        "_uuid": "168f651832d3e74e05ddc0e1acf0746944c9ad08"
      },
      "cell_type": "markdown",
      "source": "# File descriptions\n- sales_train.csv - the training set. Daily historical data from January 2013 to October 2015.\n- test.csv - the test set. You need to forecast the sales for these shops and products for November 2015.\n- sample_submission.csv - a sample submission file in the correct format.\n- items.csv - supplemental information about the items/products.\n- item_categories.csv  - supplemental information about the items categories.\n- shops.csv- supplemental information about the shops."
    },
    {
      "metadata": {
        "_uuid": "c9cb30eff600b5b0105aa0d82560d04ea8d93490"
      },
      "cell_type": "markdown",
      "source": "# Data fields\n- ID - an Id that represents a (Shop, Item) tuple within the test set\n- shop_id - unique identifier of a shop\n- item_id - unique identifier of a product\n- item_category_id - unique identifier of item category\n- item_cnt_day - number of products sold. You are predicting a monthly amount of this measure\n- item_price - current price of an item\n- date - date in format dd/mm/yyyy\n- date_block_num - a consecutive month number, used for convenience. January 2013 is 0, February 2013 is 1,..., October 2015 is 33\n- item_name - name of item\n- shop_name - name of shop\n- item_category_name - name of item category"
    },
    {
      "metadata": {
        "_uuid": "2cd449f15558660e506536034a0cfd0c35782744"
      },
      "cell_type": "markdown",
      "source": "# 0. Configure Package Dependencies"
    },
    {
      "metadata": {
        "_uuid": "8f2839f25d086af736a60e9eeb907d3b93b6e0e5",
        "_cell_guid": "b1076dfc-b9ad-4769-8c92-a6c4dae69d19",
        "trusted": true
      },
      "cell_type": "code",
      "source": "# This Python 3 environment comes with many helpful analytics libraries installed\n# It is defined by the kaggle/python docker image: https://github.com/kaggle/docker-python\n# For example, here's several helpful packages to load in \n\nimport numpy as np # linear algebra\nimport pandas as pd # data processing, CSV file I/O (e.g. pd.read_csv)\n\n# Input data files are available in the \"../input/\" directory.\n# For example, running this (by clicking run or pressing Shift+Enter) will list the files in the input directory\n\nimport os\nprint(os.listdir(\"../input\"))\n\n# Any results you write to the current directory are saved as output.",
      "execution_count": null,
      "outputs": []
    },
    {
      "metadata": {
        "_uuid": "9e1f89e95bb6cad26a7827f8e1ff7c13d33769c3"
      },
      "cell_type": "markdown",
      "source": "# 1. Import the Complete Dataset"
    },
    {
      "metadata": {
        "trusted": true,
        "_uuid": "f861012b67fd912c6b9373305afcd750e24d5214"
      },
      "cell_type": "code",
      "source": "# Read the \".csv\" from input folder.\ntrain_df = pd.read_csv('../input/sales_train.csv', index_col=False)\ntest_df = pd.read_csv('../input/test.csv', index_col=False)\nitem_df = pd.read_csv('../input/items.csv', index_col=False)\nitem_cat_df = pd.read_csv('../input/item_categories.csv', index_col=False)\nshop_df = pd.read_csv('../input/shops.csv', index_col=False)",
      "execution_count": null,
      "outputs": []
    },
    {
      "metadata": {
        "_uuid": "341655656ff812dc1a5d070a85adc69c23bdaa87"
      },
      "cell_type": "markdown",
      "source": "\n# 2. Preview the Complete Dataset"
    },
    {
      "metadata": {
        "_uuid": "acda26558e396b76635fd4f35c8c93d643eb7913"
      },
      "cell_type": "markdown",
      "source": "### ds1 -  \"sales_train.csv\"\nFrom the data above, we can conclude that the same shop will sell the same products at different times."
    },
    {
      "metadata": {
        "trusted": true,
        "scrolled": true,
        "_uuid": "0df64c3b41d498089f093a27cb38f48bd6abc02e"
      },
      "cell_type": "code",
      "source": "# Preview the first 10 instances in \"sales_train.csv\".\ntrain_df.head(10)",
      "execution_count": null,
      "outputs": []
    },
    {
      "metadata": {
        "trusted": true,
        "_uuid": "e284d594bec00ebee8da7b225983e0b5e1092ce8"
      },
      "cell_type": "code",
      "source": "# Display the dimensions and data type of the train data.\ntrain_df.info()",
      "execution_count": null,
      "outputs": []
    },
    {
      "metadata": {
        "_uuid": "186bc6140d1e51d19e15cbcb69a172d79c07d47c"
      },
      "cell_type": "markdown",
      "source": "### ds2 - \"test_csv\"\nWe only need to consider the \"ID\", which includes \"shop_id\" and \"item_id\".  \nAccording to \"shop_id\" and \"item_id\", we can generate a new feature which stands for the ID.  "
    },
    {
      "metadata": {
        "trusted": true,
        "scrolled": true,
        "_uuid": "eb83426260061d1a1c9ee5c070adcaebfae885b1"
      },
      "cell_type": "code",
      "source": "# Preview the first 10 instances in \"test.csv\".\ntest_df.head(10)",
      "execution_count": null,
      "outputs": []
    },
    {
      "metadata": {
        "trusted": true,
        "scrolled": true,
        "_uuid": "46954efffd754f0f5d8d896612c062daba30e030"
      },
      "cell_type": "code",
      "source": "# Display the dimensions and data type of the test data.\ntest_df.info()",
      "execution_count": null,
      "outputs": []
    },
    {
      "metadata": {
        "_uuid": "ee2c15eba78990f7f5677abd4ee1226bbdf06b6d"
      },
      "cell_type": "markdown",
      "source": "### ds3 - \"shops.csv\"\nCurrently, there are 60 shops in dataset.  \n\"shop_name\" is not a necessary feature."
    },
    {
      "metadata": {
        "trusted": true,
        "_uuid": "b70891f560d596a76a268a174e8cfcce10bdc0ff"
      },
      "cell_type": "code",
      "source": "# Preview the first 10 instances in \"shops.csv\".\nshop_df.head(10)",
      "execution_count": null,
      "outputs": []
    },
    {
      "metadata": {
        "trusted": true,
        "scrolled": true,
        "_uuid": "47d06c8a2c5170733ba35c77fb44e9ea9e771bb4"
      },
      "cell_type": "code",
      "source": "# Display the dimensions and data type of the shops data.\nshop_df.info()",
      "execution_count": null,
      "outputs": []
    },
    {
      "metadata": {
        "_uuid": "6e95000e7366f8dea50bbad7cd177f2858d36675"
      },
      "cell_type": "markdown",
      "source": "### ds4 - \"items.csv\"\nCurrently, there are 22170 items in the dataset.  \nWe can merge \"item_category_id\" into train data feature set.  "
    },
    {
      "metadata": {
        "trusted": true,
        "scrolled": true,
        "_uuid": "8d80401c4ea29e9e852d2690d081b421d027d3a9"
      },
      "cell_type": "code",
      "source": "# Preview the first 10 instances in \"items.csv\".\nitem_df.head(10)",
      "execution_count": null,
      "outputs": []
    },
    {
      "metadata": {
        "trusted": true,
        "_uuid": "bff212769251a4dbbd0b7dff84c5f01bb08c01c1"
      },
      "cell_type": "code",
      "source": "# Display the dimensions and data type of the items data.\nitem_df.info()",
      "execution_count": null,
      "outputs": []
    },
    {
      "metadata": {
        "_uuid": "8d629a15ab02956ac2e362c3c341ab0f98bc2a11"
      },
      "cell_type": "markdown",
      "source": "### ds5 - \"item_categories.csv\"  \nThere are 84 different items in the dataset."
    },
    {
      "metadata": {
        "trusted": true,
        "_uuid": "d5b0eb5347d63a32c6c5096fb5e7494b1cbc0a71"
      },
      "cell_type": "code",
      "source": "# Preview the first 10 instances in \"item_categories.csv\".\nitem_cat_df.head(10)",
      "execution_count": null,
      "outputs": []
    },
    {
      "metadata": {
        "trusted": true,
        "_uuid": "6ec084e014b0c0ff81f354c193ecbc803a9c7bb4"
      },
      "cell_type": "code",
      "source": "# Display the dimensions and data type of the item category data.\nitem_cat_df.info()",
      "execution_count": null,
      "outputs": []
    },
    {
      "metadata": {
        "_uuid": "5d3e5a5fbafd3ebf284908a595278b8f1cc7dfb0"
      },
      "cell_type": "markdown",
      "source": "# 3.  Initialise Data Wrangling Routine"
    },
    {
      "metadata": {
        "_uuid": "a214ee94e1dcd948c1b12049145ce8f7bd14e39d"
      },
      "cell_type": "markdown",
      "source": "## Exploratory Data Analysis"
    },
    {
      "metadata": {
        "trusted": true,
        "scrolled": false,
        "_uuid": "da0c3bb302b4f460aee45f58180a72d3a61b159e"
      },
      "cell_type": "code",
      "source": "import pandas_profiling\n\n# Generates profile reports from a pandas DataFrame.\npandas_profiling.ProfileReport(train_df, check_correlation=False)",
      "execution_count": null,
      "outputs": []
    },
    {
      "metadata": {
        "_uuid": "eb9f91a9bc033cd59f4a09220f44b720a6b88dbd"
      },
      "cell_type": "markdown",
      "source": "## Data Wrangling and Feature Construction\n1. Drop all instances whose \"item_cnt_day\" is negative.  \n2. Drop all instances whose \"item_price\" is negative.  \n3. Drop duplicates.  \n4. Keep instances whose \"shop_id\" and \"item_id\" in 'test_csv'.  \n"
    },
    {
      "metadata": {
        "trusted": true,
        "_uuid": "d70bda74db457dd0cde7dc3cf992cb098ec80805"
      },
      "cell_type": "code",
      "source": "from copy import deepcopy\n\nwrangled_train = deepcopy(train_df)",
      "execution_count": null,
      "outputs": []
    },
    {
      "metadata": {
        "trusted": true,
        "_uuid": "64e1a3090743b66e29eb09bf080be94614c9b293"
      },
      "cell_type": "code",
      "source": "# Drop all instances whose \"item_cnt_day\" is negative.\nwrangled_train = wrangled_train[wrangled_train['item_cnt_day'] >= 0]",
      "execution_count": null,
      "outputs": []
    },
    {
      "metadata": {
        "trusted": true,
        "_uuid": "567a87ffe051c789446170641f44c6112f3b886e"
      },
      "cell_type": "code",
      "source": "# Drop all instances whose \"item_price\" is negative.\nwrangled_train = wrangled_train[wrangled_train['item_price'] >= 0]",
      "execution_count": null,
      "outputs": []
    },
    {
      "metadata": {
        "trusted": true,
        "_uuid": "8961feb82fc33efebd1ba86c13c3c320a49c6f15"
      },
      "cell_type": "code",
      "source": "# Check any NaN or null in each columns of train data.\nwrangled_train.isnull().any()",
      "execution_count": null,
      "outputs": []
    },
    {
      "metadata": {
        "trusted": true,
        "_uuid": "00be016aa2ee9c46412ffeeaa96f3d5dc7fd0cdf"
      },
      "cell_type": "code",
      "source": "# Drop duplicates.\nsubset = ['date','date_block_num','shop_id','item_id','item_cnt_day']\nprint(wrangled_train.duplicated(subset=subset).value_counts())\nwrangled_train = wrangled_train.drop_duplicates(subset=subset)",
      "execution_count": null,
      "outputs": []
    },
    {
      "metadata": {
        "trusted": true,
        "_uuid": "2b8c1b29934da1ac13f655881f35ab80d324b1d5"
      },
      "cell_type": "code",
      "source": "# Keep instances whose \"shop_id\" and \"item_id\" in 'test_csv'.\nshop_id_arr = wrangled_train['shop_id'].unique()\nitem_id_arr = wrangled_train['item_id'].unique()\n\nwrangled_train = wrangled_train[wrangled_train['shop_id'].isin(shop_id_arr)]\nwrangled_train = wrangled_train[wrangled_train['item_id'].isin(item_id_arr)]",
      "execution_count": null,
      "outputs": []
    },
    {
      "metadata": {
        "trusted": true,
        "_uuid": "83b74c024e0d90a5fd0dbf4980e26a553f5dcbd1"
      },
      "cell_type": "code",
      "source": "# Display the dimensions and data type of the wrangled data.\nwrangled_train.info()",
      "execution_count": null,
      "outputs": []
    },
    {
      "metadata": {
        "trusted": true,
        "_uuid": "559c5a7d28232218b0893314ebeaf7c5d4287516"
      },
      "cell_type": "code",
      "source": "# Drop all features with datetime values.\nwrangled_train = wrangled_train.drop(['date'], axis=1)    ",
      "execution_count": null,
      "outputs": []
    },
    {
      "metadata": {
        "trusted": true,
        "_uuid": "ab5b7e54e671061bedbfb5b38803f874288524ea"
      },
      "cell_type": "code",
      "source": "# Drop all features with price.\nwrangled_train = wrangled_train.drop(['item_price'], axis=1)",
      "execution_count": null,
      "outputs": []
    },
    {
      "metadata": {
        "trusted": true,
        "_uuid": "1d620f46c6d5b6e7458911fb76b21f8876571a86"
      },
      "cell_type": "code",
      "source": "# Change \"date_block_num\" into \"month\" in range [0,33].\nwrangled_train.rename(columns={'date_block_num':'month'},inplace=True)",
      "execution_count": null,
      "outputs": []
    },
    {
      "metadata": {
        "trusted": true,
        "_uuid": "88f1597efbc492870a2a02f534bddbdd01983272"
      },
      "cell_type": "code",
      "source": "# Merge train data with items to generate new feature \"item_category_id\".\nwrangled_train = wrangled_train.merge(item_df,how='left',on=['item_id'])\nwrangled_train = wrangled_train.drop(['item_name'],axis=1)",
      "execution_count": null,
      "outputs": []
    },
    {
      "metadata": {
        "trusted": true,
        "_uuid": "ceef144cfa509376111315a263b698b9a8b484a9"
      },
      "cell_type": "code",
      "source": "wrangled_train.head(10)",
      "execution_count": null,
      "outputs": []
    },
    {
      "metadata": {
        "trusted": true,
        "_uuid": "b0a949ad1f98f9f9638c5e7fd05a37dfd938edd0"
      },
      "cell_type": "code",
      "source": "# Check any NaN or null in each columns of train data.\nwrangled_train.isnull().any()",
      "execution_count": null,
      "outputs": []
    },
    {
      "metadata": {
        "trusted": true,
        "_uuid": "bb1b2b6269c88fec6d0f6ef33a8ac53050b3ce7c"
      },
      "cell_type": "code",
      "source": "# Replace \"shop_id\" and \"item_id\" with \"ID\".\ncomplete_df = wrangled_train.merge(test_df,how='right',on=['shop_id','item_id'])",
      "execution_count": null,
      "outputs": []
    },
    {
      "metadata": {
        "trusted": true,
        "_uuid": "6d743b3b77203e7096d69179be1386e2c8f0fdc5"
      },
      "cell_type": "code",
      "source": "# Check any NaN or null in each columns of train data.\ncomplete_df.isnull().any()",
      "execution_count": null,
      "outputs": []
    },
    {
      "metadata": {
        "trusted": true,
        "_uuid": "7f3dc77a63a005dde838854266c5c6a24e414366"
      },
      "cell_type": "code",
      "source": "complete_df['month'] = complete_df['month'].astype(int)\ncomplete_df['item_category_id'] = complete_df['item_category_id'].astype(int)\ncomplete_df.head(10)",
      "execution_count": null,
      "outputs": []
    },
    {
      "metadata": {
        "trusted": true,
        "_uuid": "dd0a5e49d81d1bb57101ec79be953c2e781be389"
      },
      "cell_type": "code",
      "source": "# Group by \"ID\" and ",
      "execution_count": null,
      "outputs": []
    },
    {
      "metadata": {
        "trusted": true,
        "_uuid": "e5f8737098e0ebcd207fc335b7c924fd59eb03f0"
      },
      "cell_type": "code",
      "source": "",
      "execution_count": null,
      "outputs": []
    },
    {
      "metadata": {
        "trusted": true,
        "_uuid": "ebf4ba727b384d06d431af286e81d2d139cde144"
      },
      "cell_type": "code",
      "source": "",
      "execution_count": null,
      "outputs": []
    },
    {
      "metadata": {
        "trusted": true,
        "_uuid": "2a913f6e907454df119c38ca367dc7c4d4991312"
      },
      "cell_type": "code",
      "source": "",
      "execution_count": null,
      "outputs": []
    },
    {
      "metadata": {
        "trusted": true,
        "_uuid": "ca5507b394a9f51e7ad2b5859171e370db2bd11a"
      },
      "cell_type": "code",
      "source": "",
      "execution_count": null,
      "outputs": []
    },
    {
      "metadata": {
        "_uuid": "60b75eee280d9a2d8055db6c3f0932175289e249"
      },
      "cell_type": "markdown",
      "source": "# 4. Test Harness (Pre-Optimisation)"
    },
    {
      "metadata": {
        "trusted": true,
        "_uuid": "e4c7a86b2e8998b127cb4224e3c628930c215a59"
      },
      "cell_type": "code",
      "source": "",
      "execution_count": null,
      "outputs": []
    },
    {
      "metadata": {
        "trusted": true,
        "_uuid": "cc15ad76dc67704bcbce969d13ac29606f7a9665"
      },
      "cell_type": "code",
      "source": "",
      "execution_count": null,
      "outputs": []
    },
    {
      "metadata": {
        "trusted": true,
        "_uuid": "4988b441c705d506ce37f3b806191c948aa6d938"
      },
      "cell_type": "code",
      "source": "",
      "execution_count": null,
      "outputs": []
    },
    {
      "metadata": {
        "_cell_guid": "79c7e3d0-c299-4dcb-8224-4455121ee9b0",
        "collapsed": true,
        "_uuid": "d629ff2d2480ee46fbb7e2d37f6b5fab8052498a",
        "trusted": false
      },
      "cell_type": "code",
      "source": "",
      "execution_count": null,
      "outputs": []
    }
  ],
  "metadata": {
    "kernelspec": {
      "display_name": "Python 3",
      "language": "python",
      "name": "python3"
    },
    "language_info": {
      "name": "python",
      "version": "3.6.6",
      "mimetype": "text/x-python",
      "codemirror_mode": {
        "name": "ipython",
        "version": 3
      },
      "pygments_lexer": "ipython3",
      "nbconvert_exporter": "python",
      "file_extension": ".py"
    }
  },
  "nbformat": 4,
  "nbformat_minor": 1
}