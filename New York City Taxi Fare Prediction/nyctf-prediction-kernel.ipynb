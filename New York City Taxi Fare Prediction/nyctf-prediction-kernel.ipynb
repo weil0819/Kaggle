{
 "cells": [
  {
   "cell_type": "markdown",
   "metadata": {},
   "source": [
    "## 0. Import Necessary Packages"
   ]
  },
  {
   "cell_type": "code",
   "execution_count": 1,
   "metadata": {
    "_cell_guid": "b1076dfc-b9ad-4769-8c92-a6c4dae69d19",
    "_uuid": "8f2839f25d086af736a60e9eeb907d3b93b6e0e5"
   },
   "outputs": [
    {
     "name": "stderr",
     "output_type": "stream",
     "text": [
      "Using TensorFlow backend.\n"
     ]
    },
    {
     "name": "stdout",
     "output_type": "stream",
     "text": [
      "/kaggle/input/new-york-city-taxi-fare-prediction/sample_submission.csv\n",
      "/kaggle/input/new-york-city-taxi-fare-prediction/GCP-Coupons-Instructions.rtf\n",
      "/kaggle/input/new-york-city-taxi-fare-prediction/test.csv\n",
      "/kaggle/input/new-york-city-taxi-fare-prediction/train.csv\n"
     ]
    }
   ],
   "source": [
    "# This Python 3 environment comes with many helpful analytics libraries installed\n",
    "# It is defined by the kaggle/python docker image: https://github.com/kaggle/docker-python\n",
    "# For example, here's several helpful packages to load in \n",
    "\n",
    "import numpy as np # linear algebra\n",
    "import pandas as pd # data processing, CSV file I/O (e.g. pd.read_csv)\n",
    "import seaborn as sns\n",
    "import shutil\n",
    "from math import radians, cos, sin, asin, sqrt\n",
    "from sklearn.model_selection import train_test_split\n",
    "from sklearn.linear_model import LinearRegression\n",
    "from sklearn.ensemble import RandomForestRegressor\n",
    "from sklearn.svm import LinearSVR\n",
    "from sklearn.metrics import mean_squared_error\n",
    "from keras.models import Sequential\n",
    "from keras.layers import Dense\n",
    "from keras.wrappers.scikit_learn import KerasRegressor\n",
    "from sklearn.model_selection import cross_val_score\n",
    "from sklearn.model_selection import KFold\n",
    "from sklearn.preprocessing import StandardScaler\n",
    "from sklearn.pipeline import Pipeline\n",
    "import lightgbm as lgb\n",
    "import matplotlib.pyplot as plt\n",
    "%matplotlib inline\n",
    "import warnings\n",
    "warnings.filterwarnings(\"ignore\")\n",
    "\n",
    "plt.style.use('seaborn-white')\n",
    "pd.set_option('display.float_format', lambda x: '%.3f' % x)\n",
    "\n",
    "# Input data files are available in the \"../input/\" directory.\n",
    "# For example, running this (by clicking run or pressing Shift+Enter) will list all files under the input directory\n",
    "\n",
    "import os\n",
    "for dirname, _, filenames in os.walk('/kaggle/input'):\n",
    "    for filename in filenames:\n",
    "        print(os.path.join(dirname, filename))\n",
    "\n",
    "# Any results you write to the current directory are saved as output."
   ]
  },
  {
   "cell_type": "markdown",
   "metadata": {},
   "source": [
    "## 1. Import the Dataset"
   ]
  },
  {
   "cell_type": "code",
   "execution_count": 2,
   "metadata": {
    "_cell_guid": "79c7e3d0-c299-4dcb-8224-4455121ee9b0",
    "_uuid": "d629ff2d2480ee46fbb7e2d37f6b5fab8052498a"
   },
   "outputs": [],
   "source": [
    "# Read 1M data into memory.\n",
    "train = pd.read_csv('../input/new-york-city-taxi-fare-prediction/train.csv', nrows=1000000, index_col=False, delimiter=',', encoding='utf-8')"
   ]
  },
  {
   "cell_type": "markdown",
   "metadata": {},
   "source": [
    "## 2. Preview the Dataset"
   ]
  },
  {
   "cell_type": "code",
   "execution_count": 3,
   "metadata": {},
   "outputs": [
    {
     "name": "stdout",
     "output_type": "stream",
     "text": [
      "Total Number of Features:  8\n",
      "Total Number of Instances:  1000000\n",
      "Feature Set includes:  ['key' 'fare_amount' 'pickup_datetime' 'pickup_longitude'\n",
      " 'pickup_latitude' 'dropoff_longitude' 'dropoff_latitude'\n",
      " 'passenger_count']\n"
     ]
    }
   ],
   "source": [
    "# Display the dimensions of the dataset.\n",
    "rows = train.shape[0]\n",
    "columns = train.shape[1]\n",
    "feature_set = train.columns.values\n",
    "print('Total Number of Features: ', columns)\n",
    "print('Total Number of Instances: ', rows)\n",
    "print('Feature Set includes: ', feature_set) "
   ]
  },
  {
   "cell_type": "code",
   "execution_count": 4,
   "metadata": {},
   "outputs": [
    {
     "data": {
      "text/html": [
       "<div>\n",
       "<style scoped>\n",
       "    .dataframe tbody tr th:only-of-type {\n",
       "        vertical-align: middle;\n",
       "    }\n",
       "\n",
       "    .dataframe tbody tr th {\n",
       "        vertical-align: top;\n",
       "    }\n",
       "\n",
       "    .dataframe thead th {\n",
       "        text-align: right;\n",
       "    }\n",
       "</style>\n",
       "<table border=\"1\" class=\"dataframe\">\n",
       "  <thead>\n",
       "    <tr style=\"text-align: right;\">\n",
       "      <th></th>\n",
       "      <th>key</th>\n",
       "      <th>fare_amount</th>\n",
       "      <th>pickup_datetime</th>\n",
       "      <th>pickup_longitude</th>\n",
       "      <th>pickup_latitude</th>\n",
       "      <th>dropoff_longitude</th>\n",
       "      <th>dropoff_latitude</th>\n",
       "      <th>passenger_count</th>\n",
       "    </tr>\n",
       "  </thead>\n",
       "  <tbody>\n",
       "    <tr>\n",
       "      <th>0</th>\n",
       "      <td>2009-06-15 17:26:21.0000001</td>\n",
       "      <td>4.500</td>\n",
       "      <td>2009-06-15 17:26:21 UTC</td>\n",
       "      <td>-73.844</td>\n",
       "      <td>40.721</td>\n",
       "      <td>-73.842</td>\n",
       "      <td>40.712</td>\n",
       "      <td>1</td>\n",
       "    </tr>\n",
       "    <tr>\n",
       "      <th>1</th>\n",
       "      <td>2010-01-05 16:52:16.0000002</td>\n",
       "      <td>16.900</td>\n",
       "      <td>2010-01-05 16:52:16 UTC</td>\n",
       "      <td>-74.016</td>\n",
       "      <td>40.711</td>\n",
       "      <td>-73.979</td>\n",
       "      <td>40.782</td>\n",
       "      <td>1</td>\n",
       "    </tr>\n",
       "    <tr>\n",
       "      <th>2</th>\n",
       "      <td>2011-08-18 00:35:00.00000049</td>\n",
       "      <td>5.700</td>\n",
       "      <td>2011-08-18 00:35:00 UTC</td>\n",
       "      <td>-73.983</td>\n",
       "      <td>40.761</td>\n",
       "      <td>-73.991</td>\n",
       "      <td>40.751</td>\n",
       "      <td>2</td>\n",
       "    </tr>\n",
       "    <tr>\n",
       "      <th>3</th>\n",
       "      <td>2012-04-21 04:30:42.0000001</td>\n",
       "      <td>7.700</td>\n",
       "      <td>2012-04-21 04:30:42 UTC</td>\n",
       "      <td>-73.987</td>\n",
       "      <td>40.733</td>\n",
       "      <td>-73.992</td>\n",
       "      <td>40.758</td>\n",
       "      <td>1</td>\n",
       "    </tr>\n",
       "    <tr>\n",
       "      <th>4</th>\n",
       "      <td>2010-03-09 07:51:00.000000135</td>\n",
       "      <td>5.300</td>\n",
       "      <td>2010-03-09 07:51:00 UTC</td>\n",
       "      <td>-73.968</td>\n",
       "      <td>40.768</td>\n",
       "      <td>-73.957</td>\n",
       "      <td>40.784</td>\n",
       "      <td>1</td>\n",
       "    </tr>\n",
       "  </tbody>\n",
       "</table>\n",
       "</div>"
      ],
      "text/plain": [
       "                             key  fare_amount          pickup_datetime  \\\n",
       "0    2009-06-15 17:26:21.0000001        4.500  2009-06-15 17:26:21 UTC   \n",
       "1    2010-01-05 16:52:16.0000002       16.900  2010-01-05 16:52:16 UTC   \n",
       "2   2011-08-18 00:35:00.00000049        5.700  2011-08-18 00:35:00 UTC   \n",
       "3    2012-04-21 04:30:42.0000001        7.700  2012-04-21 04:30:42 UTC   \n",
       "4  2010-03-09 07:51:00.000000135        5.300  2010-03-09 07:51:00 UTC   \n",
       "\n",
       "   pickup_longitude  pickup_latitude  dropoff_longitude  dropoff_latitude  \\\n",
       "0           -73.844           40.721            -73.842            40.712   \n",
       "1           -74.016           40.711            -73.979            40.782   \n",
       "2           -73.983           40.761            -73.991            40.751   \n",
       "3           -73.987           40.733            -73.992            40.758   \n",
       "4           -73.968           40.768            -73.957            40.784   \n",
       "\n",
       "   passenger_count  \n",
       "0                1  \n",
       "1                1  \n",
       "2                2  \n",
       "3                1  \n",
       "4                1  "
      ]
     },
     "execution_count": 4,
     "metadata": {},
     "output_type": "execute_result"
    }
   ],
   "source": [
    "# Preview the first 5 instances.\n",
    "train.head()"
   ]
  },
  {
   "cell_type": "code",
   "execution_count": 5,
   "metadata": {},
   "outputs": [
    {
     "name": "stdout",
     "output_type": "stream",
     "text": [
      "<class 'pandas.core.frame.DataFrame'>\n",
      "RangeIndex: 1000000 entries, 0 to 999999\n",
      "Data columns (total 8 columns):\n",
      "key                  1000000 non-null object\n",
      "fare_amount          1000000 non-null float64\n",
      "pickup_datetime      1000000 non-null object\n",
      "pickup_longitude     1000000 non-null float64\n",
      "pickup_latitude      1000000 non-null float64\n",
      "dropoff_longitude    999990 non-null float64\n",
      "dropoff_latitude     999990 non-null float64\n",
      "passenger_count      1000000 non-null int64\n",
      "dtypes: float64(5), int64(1), object(2)\n",
      "memory usage: 61.0+ MB\n"
     ]
    }
   ],
   "source": [
    "# Display the dimensions and data type of the train data.\n",
    "train.info()"
   ]
  },
  {
   "cell_type": "code",
   "execution_count": 6,
   "metadata": {},
   "outputs": [
    {
     "data": {
      "text/html": [
       "<div>\n",
       "<style scoped>\n",
       "    .dataframe tbody tr th:only-of-type {\n",
       "        vertical-align: middle;\n",
       "    }\n",
       "\n",
       "    .dataframe tbody tr th {\n",
       "        vertical-align: top;\n",
       "    }\n",
       "\n",
       "    .dataframe thead th {\n",
       "        text-align: right;\n",
       "    }\n",
       "</style>\n",
       "<table border=\"1\" class=\"dataframe\">\n",
       "  <thead>\n",
       "    <tr style=\"text-align: right;\">\n",
       "      <th></th>\n",
       "      <th>count</th>\n",
       "      <th>mean</th>\n",
       "      <th>std</th>\n",
       "      <th>min</th>\n",
       "      <th>25%</th>\n",
       "      <th>50%</th>\n",
       "      <th>75%</th>\n",
       "      <th>max</th>\n",
       "    </tr>\n",
       "  </thead>\n",
       "  <tbody>\n",
       "    <tr>\n",
       "      <th>fare_amount</th>\n",
       "      <td>1000000.000</td>\n",
       "      <td>11.348</td>\n",
       "      <td>9.822</td>\n",
       "      <td>-44.900</td>\n",
       "      <td>6.000</td>\n",
       "      <td>8.500</td>\n",
       "      <td>12.500</td>\n",
       "      <td>500.000</td>\n",
       "    </tr>\n",
       "    <tr>\n",
       "      <th>pickup_longitude</th>\n",
       "      <td>1000000.000</td>\n",
       "      <td>-72.527</td>\n",
       "      <td>12.058</td>\n",
       "      <td>-3377.681</td>\n",
       "      <td>-73.992</td>\n",
       "      <td>-73.982</td>\n",
       "      <td>-73.967</td>\n",
       "      <td>2522.271</td>\n",
       "    </tr>\n",
       "    <tr>\n",
       "      <th>pickup_latitude</th>\n",
       "      <td>1000000.000</td>\n",
       "      <td>39.929</td>\n",
       "      <td>7.626</td>\n",
       "      <td>-3116.285</td>\n",
       "      <td>40.735</td>\n",
       "      <td>40.753</td>\n",
       "      <td>40.767</td>\n",
       "      <td>2621.628</td>\n",
       "    </tr>\n",
       "    <tr>\n",
       "      <th>dropoff_longitude</th>\n",
       "      <td>999990.000</td>\n",
       "      <td>-72.528</td>\n",
       "      <td>11.324</td>\n",
       "      <td>-3383.297</td>\n",
       "      <td>-73.991</td>\n",
       "      <td>-73.980</td>\n",
       "      <td>-73.964</td>\n",
       "      <td>45.582</td>\n",
       "    </tr>\n",
       "    <tr>\n",
       "      <th>dropoff_latitude</th>\n",
       "      <td>999990.000</td>\n",
       "      <td>39.920</td>\n",
       "      <td>8.201</td>\n",
       "      <td>-3114.339</td>\n",
       "      <td>40.734</td>\n",
       "      <td>40.753</td>\n",
       "      <td>40.768</td>\n",
       "      <td>1651.553</td>\n",
       "    </tr>\n",
       "    <tr>\n",
       "      <th>passenger_count</th>\n",
       "      <td>1000000.000</td>\n",
       "      <td>1.685</td>\n",
       "      <td>1.324</td>\n",
       "      <td>0.000</td>\n",
       "      <td>1.000</td>\n",
       "      <td>1.000</td>\n",
       "      <td>2.000</td>\n",
       "      <td>208.000</td>\n",
       "    </tr>\n",
       "  </tbody>\n",
       "</table>\n",
       "</div>"
      ],
      "text/plain": [
       "                        count    mean    std       min     25%     50%  \\\n",
       "fare_amount       1000000.000  11.348  9.822   -44.900   6.000   8.500   \n",
       "pickup_longitude  1000000.000 -72.527 12.058 -3377.681 -73.992 -73.982   \n",
       "pickup_latitude   1000000.000  39.929  7.626 -3116.285  40.735  40.753   \n",
       "dropoff_longitude  999990.000 -72.528 11.324 -3383.297 -73.991 -73.980   \n",
       "dropoff_latitude   999990.000  39.920  8.201 -3114.339  40.734  40.753   \n",
       "passenger_count   1000000.000   1.685  1.324     0.000   1.000   1.000   \n",
       "\n",
       "                      75%      max  \n",
       "fare_amount        12.500  500.000  \n",
       "pickup_longitude  -73.967 2522.271  \n",
       "pickup_latitude    40.767 2621.628  \n",
       "dropoff_longitude -73.964   45.582  \n",
       "dropoff_latitude   40.768 1651.553  \n",
       "passenger_count     2.000  208.000  "
      ]
     },
     "execution_count": 6,
     "metadata": {},
     "output_type": "execute_result"
    }
   ],
   "source": [
    "# Return the statistics for all numeric variables.\n",
    "train.describe().T"
   ]
  },
  {
   "cell_type": "markdown",
   "metadata": {},
   "source": [
    "## 3. Feature Engineering"
   ]
  },
  {
   "cell_type": "markdown",
   "metadata": {},
   "source": [
    "### 3.1 Data Cleaning"
   ]
  },
  {
   "cell_type": "markdown",
   "metadata": {},
   "source": [
    "From the above statistic summary, it is easy to find that :  \n",
    "- The minimum fare amount is negative.\n",
    "- Minimum and Maximum longitude and latitude look unreal.\n",
    "- Minimum passenger count is 0.\n",
    "\n",
    "We are going to fix them: \n",
    "- New York city latitude and longitude coordinates are: 40.730610, -73.935242.\n",
    " - \"min_lat\": 40.4772,\n",
    " - \"max_lat\": 45.0153,\n",
    " - \"min_lng\": -79.7624,\n",
    " - \"max_lng\": -71.7517\n",
    "- Remove 0 passenger count.\n",
    "- The taxi fare is $2.50 initial charge, so we need to remove \"fare_amount\" smaller than this amount."
   ]
  },
  {
   "cell_type": "code",
   "execution_count": 7,
   "metadata": {},
   "outputs": [
    {
     "data": {
      "text/html": [
       "<div>\n",
       "<style scoped>\n",
       "    .dataframe tbody tr th:only-of-type {\n",
       "        vertical-align: middle;\n",
       "    }\n",
       "\n",
       "    .dataframe tbody tr th {\n",
       "        vertical-align: top;\n",
       "    }\n",
       "\n",
       "    .dataframe thead th {\n",
       "        text-align: right;\n",
       "    }\n",
       "</style>\n",
       "<table border=\"1\" class=\"dataframe\">\n",
       "  <thead>\n",
       "    <tr style=\"text-align: right;\">\n",
       "      <th></th>\n",
       "      <th>fare_amount</th>\n",
       "      <th>pickup_longitude</th>\n",
       "      <th>pickup_latitude</th>\n",
       "      <th>dropoff_longitude</th>\n",
       "      <th>dropoff_latitude</th>\n",
       "      <th>passenger_count</th>\n",
       "    </tr>\n",
       "  </thead>\n",
       "  <tbody>\n",
       "    <tr>\n",
       "      <th>count</th>\n",
       "      <td>975637.000</td>\n",
       "      <td>975637.000</td>\n",
       "      <td>975637.000</td>\n",
       "      <td>975637.000</td>\n",
       "      <td>975637.000</td>\n",
       "      <td>975637.000</td>\n",
       "    </tr>\n",
       "    <tr>\n",
       "      <th>mean</th>\n",
       "      <td>11.342</td>\n",
       "      <td>-73.975</td>\n",
       "      <td>40.751</td>\n",
       "      <td>-73.974</td>\n",
       "      <td>40.751</td>\n",
       "      <td>1.691</td>\n",
       "    </tr>\n",
       "    <tr>\n",
       "      <th>std</th>\n",
       "      <td>9.748</td>\n",
       "      <td>0.041</td>\n",
       "      <td>0.030</td>\n",
       "      <td>0.040</td>\n",
       "      <td>0.033</td>\n",
       "      <td>1.306</td>\n",
       "    </tr>\n",
       "    <tr>\n",
       "      <th>min</th>\n",
       "      <td>2.500</td>\n",
       "      <td>-78.669</td>\n",
       "      <td>40.477</td>\n",
       "      <td>-78.669</td>\n",
       "      <td>40.479</td>\n",
       "      <td>1.000</td>\n",
       "    </tr>\n",
       "    <tr>\n",
       "      <th>25%</th>\n",
       "      <td>6.000</td>\n",
       "      <td>-73.992</td>\n",
       "      <td>40.737</td>\n",
       "      <td>-73.992</td>\n",
       "      <td>40.736</td>\n",
       "      <td>1.000</td>\n",
       "    </tr>\n",
       "    <tr>\n",
       "      <th>50%</th>\n",
       "      <td>8.500</td>\n",
       "      <td>-73.982</td>\n",
       "      <td>40.753</td>\n",
       "      <td>-73.981</td>\n",
       "      <td>40.754</td>\n",
       "      <td>1.000</td>\n",
       "    </tr>\n",
       "    <tr>\n",
       "      <th>75%</th>\n",
       "      <td>12.500</td>\n",
       "      <td>-73.968</td>\n",
       "      <td>40.768</td>\n",
       "      <td>-73.965</td>\n",
       "      <td>40.768</td>\n",
       "      <td>2.000</td>\n",
       "    </tr>\n",
       "    <tr>\n",
       "      <th>max</th>\n",
       "      <td>500.000</td>\n",
       "      <td>-72.703</td>\n",
       "      <td>43.214</td>\n",
       "      <td>-72.196</td>\n",
       "      <td>44.600</td>\n",
       "      <td>6.000</td>\n",
       "    </tr>\n",
       "  </tbody>\n",
       "</table>\n",
       "</div>"
      ],
      "text/plain": [
       "       fare_amount  pickup_longitude  pickup_latitude  dropoff_longitude  \\\n",
       "count   975637.000        975637.000       975637.000         975637.000   \n",
       "mean        11.342           -73.975           40.751            -73.974   \n",
       "std          9.748             0.041            0.030              0.040   \n",
       "min          2.500           -78.669           40.477            -78.669   \n",
       "25%          6.000           -73.992           40.737            -73.992   \n",
       "50%          8.500           -73.982           40.753            -73.981   \n",
       "75%         12.500           -73.968           40.768            -73.965   \n",
       "max        500.000           -72.703           43.214            -72.196   \n",
       "\n",
       "       dropoff_latitude  passenger_count  \n",
       "count        975637.000       975637.000  \n",
       "mean             40.751            1.691  \n",
       "std               0.033            1.306  \n",
       "min              40.479            1.000  \n",
       "25%              40.736            1.000  \n",
       "50%              40.754            1.000  \n",
       "75%              40.768            2.000  \n",
       "max              44.600            6.000  "
      ]
     },
     "execution_count": 7,
     "metadata": {},
     "output_type": "execute_result"
    }
   ],
   "source": [
    "train = train[(train['passenger_count']>0) & (train['fare_amount']>=2.50) &  \n",
    "              ((train['pickup_longitude']>-79.762) & (train['pickup_longitude']<-71.752)) & \n",
    "              ((train['pickup_latitude']>40.477) & (train['pickup_latitude']<45.015)) & \n",
    "              ((train['dropoff_longitude']>-79.762) & (train['dropoff_longitude']<-71.752)) & \n",
    "              ((train['dropoff_latitude']>40.477) & (train['dropoff_latitude']<45.015))]\n",
    "\n",
    "# Run statistic for narrow data.\n",
    "train.describe()"
   ]
  },
  {
   "cell_type": "code",
   "execution_count": 8,
   "metadata": {},
   "outputs": [
    {
     "data": {
      "text/html": [
       "<div>\n",
       "<style scoped>\n",
       "    .dataframe tbody tr th:only-of-type {\n",
       "        vertical-align: middle;\n",
       "    }\n",
       "\n",
       "    .dataframe tbody tr th {\n",
       "        vertical-align: top;\n",
       "    }\n",
       "\n",
       "    .dataframe thead th {\n",
       "        text-align: right;\n",
       "    }\n",
       "</style>\n",
       "<table border=\"1\" class=\"dataframe\">\n",
       "  <thead>\n",
       "    <tr style=\"text-align: right;\">\n",
       "      <th></th>\n",
       "      <th>fare_amount</th>\n",
       "      <th>pickup_datetime</th>\n",
       "      <th>pickup_longitude</th>\n",
       "      <th>pickup_latitude</th>\n",
       "      <th>dropoff_longitude</th>\n",
       "      <th>dropoff_latitude</th>\n",
       "      <th>passenger_count</th>\n",
       "    </tr>\n",
       "  </thead>\n",
       "  <tbody>\n",
       "    <tr>\n",
       "      <th>0</th>\n",
       "      <td>4.500</td>\n",
       "      <td>2009-06-15 17:26:21 UTC</td>\n",
       "      <td>-73.844</td>\n",
       "      <td>40.721</td>\n",
       "      <td>-73.842</td>\n",
       "      <td>40.712</td>\n",
       "      <td>1</td>\n",
       "    </tr>\n",
       "    <tr>\n",
       "      <th>1</th>\n",
       "      <td>16.900</td>\n",
       "      <td>2010-01-05 16:52:16 UTC</td>\n",
       "      <td>-74.016</td>\n",
       "      <td>40.711</td>\n",
       "      <td>-73.979</td>\n",
       "      <td>40.782</td>\n",
       "      <td>1</td>\n",
       "    </tr>\n",
       "    <tr>\n",
       "      <th>2</th>\n",
       "      <td>5.700</td>\n",
       "      <td>2011-08-18 00:35:00 UTC</td>\n",
       "      <td>-73.983</td>\n",
       "      <td>40.761</td>\n",
       "      <td>-73.991</td>\n",
       "      <td>40.751</td>\n",
       "      <td>2</td>\n",
       "    </tr>\n",
       "    <tr>\n",
       "      <th>3</th>\n",
       "      <td>7.700</td>\n",
       "      <td>2012-04-21 04:30:42 UTC</td>\n",
       "      <td>-73.987</td>\n",
       "      <td>40.733</td>\n",
       "      <td>-73.992</td>\n",
       "      <td>40.758</td>\n",
       "      <td>1</td>\n",
       "    </tr>\n",
       "    <tr>\n",
       "      <th>4</th>\n",
       "      <td>5.300</td>\n",
       "      <td>2010-03-09 07:51:00 UTC</td>\n",
       "      <td>-73.968</td>\n",
       "      <td>40.768</td>\n",
       "      <td>-73.957</td>\n",
       "      <td>40.784</td>\n",
       "      <td>1</td>\n",
       "    </tr>\n",
       "  </tbody>\n",
       "</table>\n",
       "</div>"
      ],
      "text/plain": [
       "   fare_amount          pickup_datetime  pickup_longitude  pickup_latitude  \\\n",
       "0        4.500  2009-06-15 17:26:21 UTC           -73.844           40.721   \n",
       "1       16.900  2010-01-05 16:52:16 UTC           -74.016           40.711   \n",
       "2        5.700  2011-08-18 00:35:00 UTC           -73.983           40.761   \n",
       "3        7.700  2012-04-21 04:30:42 UTC           -73.987           40.733   \n",
       "4        5.300  2010-03-09 07:51:00 UTC           -73.968           40.768   \n",
       "\n",
       "   dropoff_longitude  dropoff_latitude  passenger_count  \n",
       "0            -73.842            40.712                1  \n",
       "1            -73.979            40.782                1  \n",
       "2            -73.991            40.751                2  \n",
       "3            -73.992            40.758                1  \n",
       "4            -73.957            40.784                1  "
      ]
     },
     "execution_count": 8,
     "metadata": {},
     "output_type": "execute_result"
    }
   ],
   "source": [
    "# Drop 'key' that is useless.\n",
    "train.drop(columns=['key'], axis=1, inplace=True)\n",
    "\n",
    "# Check the first 5 rows again.\n",
    "train.head()"
   ]
  },
  {
   "cell_type": "markdown",
   "metadata": {},
   "source": [
    "## 4. Exploratory Data Analysis (EDA)"
   ]
  },
  {
   "cell_type": "markdown",
   "metadata": {},
   "source": [
    "### 4.1 Visualize several taxi rides"
   ]
  },
  {
   "cell_type": "code",
   "execution_count": 9,
   "metadata": {},
   "outputs": [
    {
     "data": {
      "text/plain": [
       "[<matplotlib.lines.Line2D at 0x7f882dfff278>]"
      ]
     },
     "execution_count": 9,
     "metadata": {},
     "output_type": "execute_result"
    },
    {
     "data": {
      "image/png": "[encoded data removed]",
      "text/plain": [
       "<Figure size 432x288 with 1 Axes>"
      ]
     },
     "metadata": {},
     "output_type": "display_data"
    }
   ],
   "source": [
    "def showRides(df, numlines):\n",
    "    lats = []\n",
    "    lons = []\n",
    "    for iter, row in df[:numlines].iterrows():\n",
    "        lons.append(row['pickup_longitude'])\n",
    "        lons.append(row['dropoff_longitude'])\n",
    "        lons.append(None)\n",
    "        lats.append(row['pickup_latitude'])\n",
    "        lats.append(row['dropoff_latitude'])\n",
    "        lats.append(None)\n",
    "    \n",
    "    return lats, lons\n",
    "\n",
    "lats, lons = showRides(train, 20)\n",
    "plt.plot(lons, lats)"
   ]
  },
  {
   "cell_type": "markdown",
   "metadata": {},
   "source": [
    "### 4.2 Fare amount"
   ]
  },
  {
   "cell_type": "code",
   "execution_count": 10,
   "metadata": {},
   "outputs": [
    {
     "data": {
      "image/png": "[encoded data removed]",
      "text/plain": [
       "<Figure size 1008x288 with 1 Axes>"
      ]
     },
     "metadata": {},
     "output_type": "display_data"
    }
   ],
   "source": [
    "plt.figure(figsize = (14, 4))\n",
    "# n, bins, patches = plt.hist(train.fare_amount, 1000, facecolor='blue', alpha=0.75)\n",
    "train['fare_amount'].plot.hist(bins=1000, facecolor='blue', alpha=0.75)\n",
    "plt.xlabel('Fare amount')\n",
    "plt.title('Histogram of fare amount')\n",
    "plt.xlim(0, 200)\n",
    "plt.show()"
   ]
  },
  {
   "cell_type": "markdown",
   "metadata": {},
   "source": [
    "The histogram of fare amount shows that most fare amount are very small."
   ]
  },
  {
   "cell_type": "code",
   "execution_count": 11,
   "metadata": {},
   "outputs": [
    {
     "data": {
      "text/plain": [
       "fare_amount\n",
       "6.500     47487\n",
       "4.500     40142\n",
       "8.500     36604\n",
       "5.300     28483\n",
       "5.700     28343\n",
       "6.100     27608\n",
       "4.900     27505\n",
       "6.900     25528\n",
       "10.500    24617\n",
       "7.300     23834\n",
       "dtype: int64"
      ]
     },
     "execution_count": 11,
     "metadata": {},
     "output_type": "execute_result"
    }
   ],
   "source": [
    "# Show the first 10 largest amount.\n",
    "train.groupby('fare_amount').size().nlargest(10)"
   ]
  },
  {
   "cell_type": "markdown",
   "metadata": {},
   "source": [
    "The most common fare amount are very small at only 6.5 and 4.5, indicating they were very short rides within Manhattan."
   ]
  },
  {
   "cell_type": "markdown",
   "metadata": {},
   "source": [
    "### 4.3 Passenger count"
   ]
  },
  {
   "cell_type": "code",
   "execution_count": 12,
   "metadata": {},
   "outputs": [
    {
     "data": {
      "image/png": "[encoded data removed]",
      "text/plain": [
       "<Figure size 1008x576 with 1 Axes>"
      ]
     },
     "metadata": {},
     "output_type": "display_data"
    }
   ],
   "source": [
    "plt.figure(figsize = (14, 8))\n",
    "train['passenger_count'].value_counts().plot.bar(color = 'b', edgecolor = 'k')\n",
    "plt.xlabel('Passenger counts')\n",
    "plt.ylabel('Count')\n",
    "plt.title('Histogram of passenger counts')\n",
    "plt.show()"
   ]
  },
  {
   "cell_type": "code",
   "execution_count": 13,
   "metadata": {},
   "outputs": [
    {
     "data": {
      "text/plain": [
       "passenger_count\n",
       "1    676648\n",
       "2    145255\n",
       "3     42870\n",
       "4     20998\n",
       "5     69103\n",
       "6     20763\n",
       "dtype: int64"
      ]
     },
     "execution_count": 13,
     "metadata": {},
     "output_type": "execute_result"
    }
   ],
   "source": [
    "# 'passenger_count' distribution.\n",
    "train.groupby('passenger_count').size()"
   ]
  },
  {
   "cell_type": "markdown",
   "metadata": {},
   "source": [
    "Based on the above discovery, we are going to remove taxi rides with `passenger_count`> 6."
   ]
  },
  {
   "cell_type": "code",
   "execution_count": 14,
   "metadata": {},
   "outputs": [],
   "source": [
    "train = train.loc[train['passenger_count'] <= 6]"
   ]
  },
  {
   "cell_type": "markdown",
   "metadata": {},
   "source": [
    "## 5. Define the model"
   ]
  },
  {
   "cell_type": "markdown",
   "metadata": {},
   "source": [
    "### 5.1 Baseline Model"
   ]
  },
  {
   "cell_type": "code",
   "execution_count": 15,
   "metadata": {},
   "outputs": [],
   "source": [
    "# train_df, test_df = train_test_split(train, test_size=0.33, random_state=42)\n",
    "\n",
    "# def distance_between(lat1, lon1, lat2, lon2):\n",
    "#     # Haversine formula to compute distance\n",
    "#     dist = np.degrees(np.arccos(np.sin(np.radians(lat1)) * np.sin(np.radians(lat2)) + \n",
    "#                               np.cos(np.radians(lat1)) * np.cos(np.radians(lat2)) * \n",
    "#                                np.cos(np.radians(lon2 - lon1)))) * 60 * 1.515 * 1.609344\n",
    "#     return dist\n",
    "\n",
    "# def estimate_distance(df):\n",
    "#     return distance_between(df['pickup_latitude'], df['pickup_longitude'], df['dropoff_latitude'], df['dropoff_longitude'])\n",
    "\n",
    "# def compute_rmse(actual, predicted):\n",
    "#     return np.sqrt(np.mean((actual - predicted)**2))\n",
    "\n",
    "# def print_rmse(df, rate, name):\n",
    "#     print(\"{1} RMSE = {0}\".format(compute_rmse(df['fare_amount'], rate * estimate_distance(df)), name))\n",
    "\n",
    "# # Calculate the rate that is the mean value between fare and distance.\n",
    "# rate = train_df['fare_amount'].mean() / estimate_distance(train_df).mean()\n",
    "\n",
    "# print(\"Rate = ${0}/km\".format(rate))\n",
    "# print_rmse(train_df, rate, 'Train')\n",
    "# print_rmse(test_df, rate, 'Test')"
   ]
  },
  {
   "cell_type": "markdown",
   "metadata": {},
   "source": [
    "### 5.2 Feature Engineering"
   ]
  },
  {
   "cell_type": "markdown",
   "metadata": {},
   "source": [
    "Extract information from datetime (day of week, month, hour, day). Taxi fares change during different hours of the day and on weekdays/weekends/holidays."
   ]
  },
  {
   "cell_type": "code",
   "execution_count": 16,
   "metadata": {},
   "outputs": [],
   "source": [
    "train['pickup_datetime'] = pd.to_datetime(train['pickup_datetime'])\n",
    "train['year'] = train.pickup_datetime.dt.year\n",
    "train['month'] = train.pickup_datetime.dt.month\n",
    "train['day'] = train.pickup_datetime.dt.day\n",
    "train['weekday'] = train.pickup_datetime.dt.weekday\n",
    "train['hour'] = train.pickup_datetime.dt.hour"
   ]
  },
  {
   "cell_type": "code",
   "execution_count": 17,
   "metadata": {},
   "outputs": [],
   "source": [
    "def haversine_np(lon1, lat1, lon2, lat2):\n",
    "    \"\"\"\n",
    "    Calculate the great circle distance between two points\n",
    "    on the earth (specified in decimal degrees)\n",
    "\n",
    "    All args must be of equal length.    \n",
    "\n",
    "    \"\"\"\n",
    "    lon1, lat1, lon2, lat2 = map(np.radians, [lon1, lat1, lon2, lat2])\n",
    "\n",
    "    dlon = lon2 - lon1\n",
    "    dlat = lat2 - lat1\n",
    "\n",
    "    a = np.sin(dlat/2.0)**2 + np.cos(lat1) * np.cos(lat2) * np.sin(dlon/2.0)**2\n",
    "\n",
    "    c = 2 * np.arcsin(np.sqrt(a))\n",
    "    km = 6371 * c  # 6371 is Radius of earth in kilometers. Use 3956 for miles\n",
    "    return km\n",
    "\n",
    "# Add one more column 'distance'.\n",
    "train['distance'] = haversine_np(train['pickup_latitude'], train['pickup_longitude'], train['dropoff_latitude'] , train['dropoff_longitude'])\n"
   ]
  },
  {
   "cell_type": "markdown",
   "metadata": {},
   "source": [
    "Add column indicating distance from pick up or drop off coordinates to JFK. Trips from/to JFK have a flat fare at $52."
   ]
  },
  {
   "cell_type": "code",
   "execution_count": 18,
   "metadata": {},
   "outputs": [
    {
     "data": {
      "text/html": [
       "<div>\n",
       "<style scoped>\n",
       "    .dataframe tbody tr th:only-of-type {\n",
       "        vertical-align: middle;\n",
       "    }\n",
       "\n",
       "    .dataframe tbody tr th {\n",
       "        vertical-align: top;\n",
       "    }\n",
       "\n",
       "    .dataframe thead th {\n",
       "        text-align: right;\n",
       "    }\n",
       "</style>\n",
       "<table border=\"1\" class=\"dataframe\">\n",
       "  <thead>\n",
       "    <tr style=\"text-align: right;\">\n",
       "      <th></th>\n",
       "      <th>fare_amount</th>\n",
       "      <th>pickup_longitude</th>\n",
       "      <th>pickup_latitude</th>\n",
       "      <th>dropoff_longitude</th>\n",
       "      <th>dropoff_latitude</th>\n",
       "      <th>passenger_count</th>\n",
       "      <th>year</th>\n",
       "      <th>month</th>\n",
       "      <th>day</th>\n",
       "      <th>weekday</th>\n",
       "      <th>hour</th>\n",
       "      <th>distance</th>\n",
       "      <th>JFK_distance</th>\n",
       "    </tr>\n",
       "  </thead>\n",
       "  <tbody>\n",
       "    <tr>\n",
       "      <th>0</th>\n",
       "      <td>4.500</td>\n",
       "      <td>-73.844</td>\n",
       "      <td>40.721</td>\n",
       "      <td>-73.842</td>\n",
       "      <td>40.712</td>\n",
       "      <td>1</td>\n",
       "      <td>2009</td>\n",
       "      <td>6</td>\n",
       "      <td>15</td>\n",
       "      <td>0</td>\n",
       "      <td>17</td>\n",
       "      <td>0.410</td>\n",
       "      <td>7.397</td>\n",
       "    </tr>\n",
       "    <tr>\n",
       "      <th>1</th>\n",
       "      <td>16.900</td>\n",
       "      <td>-74.016</td>\n",
       "      <td>40.711</td>\n",
       "      <td>-73.979</td>\n",
       "      <td>40.782</td>\n",
       "      <td>1</td>\n",
       "      <td>2010</td>\n",
       "      <td>1</td>\n",
       "      <td>5</td>\n",
       "      <td>1</td>\n",
       "      <td>16</td>\n",
       "      <td>4.629</td>\n",
       "      <td>22.787</td>\n",
       "    </tr>\n",
       "    <tr>\n",
       "      <th>2</th>\n",
       "      <td>5.700</td>\n",
       "      <td>-73.983</td>\n",
       "      <td>40.761</td>\n",
       "      <td>-73.991</td>\n",
       "      <td>40.751</td>\n",
       "      <td>2</td>\n",
       "      <td>2011</td>\n",
       "      <td>8</td>\n",
       "      <td>18</td>\n",
       "      <td>3</td>\n",
       "      <td>0</td>\n",
       "      <td>1.001</td>\n",
       "      <td>23.054</td>\n",
       "    </tr>\n",
       "    <tr>\n",
       "      <th>3</th>\n",
       "      <td>7.700</td>\n",
       "      <td>-73.987</td>\n",
       "      <td>40.733</td>\n",
       "      <td>-73.992</td>\n",
       "      <td>40.758</td>\n",
       "      <td>1</td>\n",
       "      <td>2012</td>\n",
       "      <td>4</td>\n",
       "      <td>21</td>\n",
       "      <td>5</td>\n",
       "      <td>4</td>\n",
       "      <td>0.910</td>\n",
       "      <td>23.415</td>\n",
       "    </tr>\n",
       "    <tr>\n",
       "      <th>4</th>\n",
       "      <td>5.300</td>\n",
       "      <td>-73.968</td>\n",
       "      <td>40.768</td>\n",
       "      <td>-73.957</td>\n",
       "      <td>40.784</td>\n",
       "      <td>1</td>\n",
       "      <td>2010</td>\n",
       "      <td>3</td>\n",
       "      <td>9</td>\n",
       "      <td>1</td>\n",
       "      <td>7</td>\n",
       "      <td>1.361</td>\n",
       "      <td>20.336</td>\n",
       "    </tr>\n",
       "  </tbody>\n",
       "</table>\n",
       "</div>"
      ],
      "text/plain": [
       "   fare_amount  pickup_longitude  pickup_latitude  dropoff_longitude  \\\n",
       "0        4.500           -73.844           40.721            -73.842   \n",
       "1       16.900           -74.016           40.711            -73.979   \n",
       "2        5.700           -73.983           40.761            -73.991   \n",
       "3        7.700           -73.987           40.733            -73.992   \n",
       "4        5.300           -73.968           40.768            -73.957   \n",
       "\n",
       "   dropoff_latitude  passenger_count  year  month  day  weekday  hour  \\\n",
       "0            40.712                1  2009      6   15        0    17   \n",
       "1            40.782                1  2010      1    5        1    16   \n",
       "2            40.751                2  2011      8   18        3     0   \n",
       "3            40.758                1  2012      4   21        5     4   \n",
       "4            40.784                1  2010      3    9        1     7   \n",
       "\n",
       "   distance  JFK_distance  \n",
       "0     0.410         7.397  \n",
       "1     4.629        22.787  \n",
       "2     1.001        23.054  \n",
       "3     0.910        23.415  \n",
       "4     1.361        20.336  "
      ]
     },
     "execution_count": 18,
     "metadata": {},
     "output_type": "execute_result"
    }
   ],
   "source": [
    "JFK_coord = (40.6413, -73.7781)\n",
    "\n",
    "pickup_JFK = haversine_np(train['pickup_latitude'], train['pickup_longitude'], JFK_coord[0], JFK_coord[1]) \n",
    "dropoff_JFK = haversine_np(JFK_coord[0], JFK_coord[1], train['dropoff_latitude'], train['dropoff_longitude'])\n",
    "\n",
    "train['JFK_distance'] = pd.concat([pickup_JFK, dropoff_JFK], axis=1).min(axis=1)\n",
    "\n",
    "del train['pickup_datetime']\n",
    "\n",
    "train.head()"
   ]
  },
  {
   "cell_type": "code",
   "execution_count": 19,
   "metadata": {},
   "outputs": [
    {
     "data": {
      "image/png": "[encoded data removed]",
      "text/plain": [
       "<Figure size 1008x576 with 1 Axes>"
      ]
     },
     "metadata": {},
     "output_type": "display_data"
    }
   ],
   "source": [
    "# Visualize the 'distance' feature.\n",
    "plt.figure(figsize = (14, 8))\n",
    "# n, bins, patches = plt.hist(taxi.distance, 1000, facecolor='blue', alpha=0.75)\n",
    "train['distance'].plot.hist(bins=1000, facecolor='blue', alpha=0.75)\n",
    "plt.xlabel('distance')\n",
    "plt.title('Histogram of ride distance')\n",
    "plt.show()"
   ]
  },
  {
   "cell_type": "code",
   "execution_count": 20,
   "metadata": {},
   "outputs": [
    {
     "data": {
      "text/plain": [
       "count   975637.000\n",
       "mean         2.716\n",
       "std          4.146\n",
       "min          0.000\n",
       "25%          0.854\n",
       "50%          1.553\n",
       "75%          2.830\n",
       "max        453.455\n",
       "Name: distance, dtype: float64"
      ]
     },
     "execution_count": 20,
     "metadata": {},
     "output_type": "execute_result"
    }
   ],
   "source": [
    "# Check statistic information.\n",
    "train['distance'].describe()"
   ]
  },
  {
   "cell_type": "code",
   "execution_count": 21,
   "metadata": {},
   "outputs": [],
   "source": [
    "# Remove all 0 distance.\n",
    "train = train.loc[train['distance'] > 0]"
   ]
  },
  {
   "cell_type": "code",
   "execution_count": 22,
   "metadata": {},
   "outputs": [
    {
     "data": {
      "text/html": [
       "<div>\n",
       "<style scoped>\n",
       "    .dataframe tbody tr th:only-of-type {\n",
       "        vertical-align: middle;\n",
       "    }\n",
       "\n",
       "    .dataframe tbody tr th {\n",
       "        vertical-align: top;\n",
       "    }\n",
       "\n",
       "    .dataframe thead th {\n",
       "        text-align: right;\n",
       "    }\n",
       "</style>\n",
       "<table border=\"1\" class=\"dataframe\">\n",
       "  <thead>\n",
       "    <tr style=\"text-align: right;\">\n",
       "      <th></th>\n",
       "      <th>fare_amount</th>\n",
       "      <th>pickup_longitude</th>\n",
       "      <th>pickup_latitude</th>\n",
       "      <th>dropoff_longitude</th>\n",
       "      <th>dropoff_latitude</th>\n",
       "      <th>passenger_count</th>\n",
       "      <th>year</th>\n",
       "      <th>month</th>\n",
       "      <th>day</th>\n",
       "      <th>weekday</th>\n",
       "      <th>hour</th>\n",
       "      <th>distance</th>\n",
       "      <th>JFK_distance</th>\n",
       "    </tr>\n",
       "  </thead>\n",
       "  <tbody>\n",
       "    <tr>\n",
       "      <th>0</th>\n",
       "      <td>4.500</td>\n",
       "      <td>-73.844</td>\n",
       "      <td>40.721</td>\n",
       "      <td>-73.842</td>\n",
       "      <td>40.712</td>\n",
       "      <td>1</td>\n",
       "      <td>2009</td>\n",
       "      <td>6</td>\n",
       "      <td>15</td>\n",
       "      <td>0</td>\n",
       "      <td>17</td>\n",
       "      <td>0.410</td>\n",
       "      <td>7.397</td>\n",
       "    </tr>\n",
       "    <tr>\n",
       "      <th>1</th>\n",
       "      <td>16.900</td>\n",
       "      <td>-74.016</td>\n",
       "      <td>40.711</td>\n",
       "      <td>-73.979</td>\n",
       "      <td>40.782</td>\n",
       "      <td>1</td>\n",
       "      <td>2010</td>\n",
       "      <td>1</td>\n",
       "      <td>5</td>\n",
       "      <td>1</td>\n",
       "      <td>16</td>\n",
       "      <td>4.629</td>\n",
       "      <td>22.787</td>\n",
       "    </tr>\n",
       "    <tr>\n",
       "      <th>2</th>\n",
       "      <td>5.700</td>\n",
       "      <td>-73.983</td>\n",
       "      <td>40.761</td>\n",
       "      <td>-73.991</td>\n",
       "      <td>40.751</td>\n",
       "      <td>2</td>\n",
       "      <td>2011</td>\n",
       "      <td>8</td>\n",
       "      <td>18</td>\n",
       "      <td>3</td>\n",
       "      <td>0</td>\n",
       "      <td>1.001</td>\n",
       "      <td>23.054</td>\n",
       "    </tr>\n",
       "    <tr>\n",
       "      <th>3</th>\n",
       "      <td>7.700</td>\n",
       "      <td>-73.987</td>\n",
       "      <td>40.733</td>\n",
       "      <td>-73.992</td>\n",
       "      <td>40.758</td>\n",
       "      <td>1</td>\n",
       "      <td>2012</td>\n",
       "      <td>4</td>\n",
       "      <td>21</td>\n",
       "      <td>5</td>\n",
       "      <td>4</td>\n",
       "      <td>0.910</td>\n",
       "      <td>23.415</td>\n",
       "    </tr>\n",
       "    <tr>\n",
       "      <th>4</th>\n",
       "      <td>5.300</td>\n",
       "      <td>-73.968</td>\n",
       "      <td>40.768</td>\n",
       "      <td>-73.957</td>\n",
       "      <td>40.784</td>\n",
       "      <td>1</td>\n",
       "      <td>2010</td>\n",
       "      <td>3</td>\n",
       "      <td>9</td>\n",
       "      <td>1</td>\n",
       "      <td>7</td>\n",
       "      <td>1.361</td>\n",
       "      <td>20.336</td>\n",
       "    </tr>\n",
       "  </tbody>\n",
       "</table>\n",
       "</div>"
      ],
      "text/plain": [
       "   fare_amount  pickup_longitude  pickup_latitude  dropoff_longitude  \\\n",
       "0        4.500           -73.844           40.721            -73.842   \n",
       "1       16.900           -74.016           40.711            -73.979   \n",
       "2        5.700           -73.983           40.761            -73.991   \n",
       "3        7.700           -73.987           40.733            -73.992   \n",
       "4        5.300           -73.968           40.768            -73.957   \n",
       "\n",
       "   dropoff_latitude  passenger_count  year  month  day  weekday  hour  \\\n",
       "0            40.712                1  2009      6   15        0    17   \n",
       "1            40.782                1  2010      1    5        1    16   \n",
       "2            40.751                2  2011      8   18        3     0   \n",
       "3            40.758                1  2012      4   21        5     4   \n",
       "4            40.784                1  2010      3    9        1     7   \n",
       "\n",
       "   distance  JFK_distance  \n",
       "0     0.410         7.397  \n",
       "1     4.629        22.787  \n",
       "2     1.001        23.054  \n",
       "3     0.910        23.415  \n",
       "4     1.361        20.336  "
      ]
     },
     "execution_count": 22,
     "metadata": {},
     "output_type": "execute_result"
    }
   ],
   "source": [
    "# Check the final training data again.\n",
    "train.head()"
   ]
  },
  {
   "cell_type": "markdown",
   "metadata": {},
   "source": [
    "### 5.3 ML Models"
   ]
  },
  {
   "cell_type": "code",
   "execution_count": 23,
   "metadata": {},
   "outputs": [],
   "source": [
    "# Prepare train and valid dataset.\n",
    "y = train['fare_amount']\n",
    "X = train.drop(columns=['fare_amount'])\n",
    "X_train, X_test, y_train, y_test = train_test_split(X, y, test_size=0.3, random_state=42)"
   ]
  },
  {
   "cell_type": "markdown",
   "metadata": {},
   "source": [
    "We will benchmark the following models:\n",
    "- LinearRegression()\n",
    "- RandomForestRegressor(max_depth=2, random_state=0, n_estimators=100)\n",
    "- LinearSVR()"
   ]
  },
  {
   "cell_type": "code",
   "execution_count": 24,
   "metadata": {},
   "outputs": [],
   "source": [
    "# models = [\n",
    "#     LinearRegression(),\n",
    "#     RandomForestRegressor(max_depth=2, random_state=0, n_estimators=100),\n",
    "#     LinearSVR()\n",
    "# ]\n",
    "\n",
    "# def train_model(classifier, X_train, y_train, X_valid, y_valid):\n",
    "#     # Fit the training data on the classifier.\n",
    "#     classifier.fit(X_train, y_train)\n",
    "    \n",
    "#     # Predict the labels on validation data\n",
    "#     y_pred = classifier.predict(X_valid)\n",
    "        \n",
    "#     return round(mean_squared_error(y_pred, y_valid) ** 0.5, 3)"
   ]
  },
  {
   "cell_type": "code",
   "execution_count": 25,
   "metadata": {},
   "outputs": [],
   "source": [
    "# for model in models:\n",
    "#     model_name = model.__class__.__name__\n",
    "#     rmse = train_model(model, X_train, y_train, X_test, y_test)\n",
    "#     print(\"For {0}, the test RMSE = {1}\".format(model_name, rmse))   "
   ]
  },
  {
   "cell_type": "markdown",
   "metadata": {},
   "source": [
    "### 5.4 DL Model"
   ]
  },
  {
   "cell_type": "code",
   "execution_count": 26,
   "metadata": {},
   "outputs": [
    {
     "name": "stdout",
     "output_type": "stream",
     "text": [
      "RMSE: 1.9227391082979364\n"
     ]
    }
   ],
   "source": [
    "def baseline_model():\n",
    "    # create model\n",
    "    model = Sequential()\n",
    "    model.add(Dense(12, input_dim=12, kernel_initializer='normal', activation='relu'))\n",
    "    model.add(Dense(1, kernel_initializer='normal'))\n",
    "    # compile model\n",
    "    model.compile(loss='mean_squared_error', optimizer='adam')\n",
    "    return model\n",
    "\n",
    "seed = 7\n",
    "np.random.seed(seed)\n",
    "# evaluate model with standardized dataset\n",
    "estimator = KerasRegressor(build_fn=baseline_model, nb_epoch=100, batch_size=5, verbose=0)\n",
    "# 10-fold cross validation.\n",
    "kfold = KFold(n_splits=10, random_state=seed)\n",
    "results = cross_val_score(estimator, X.values, y.values, cv=kfold, n_jobs=1)\n",
    "print(\"RMSE:\", np.sqrt(results.std()))"
   ]
  },
  {
   "cell_type": "markdown",
   "metadata": {},
   "source": [
    "## 6. Predict and submit \"submission.csv\" file"
   ]
  },
  {
   "cell_type": "markdown",
   "metadata": {},
   "source": [
    "### 6.1 Prepare testing data"
   ]
  },
  {
   "cell_type": "code",
   "execution_count": 27,
   "metadata": {},
   "outputs": [
    {
     "name": "stdout",
     "output_type": "stream",
     "text": [
      "Total Number of Features:  7\n",
      "Total Number of Instances:  9914\n",
      "Feature Set includes:  ['key' 'pickup_datetime' 'pickup_longitude' 'pickup_latitude'\n",
      " 'dropoff_longitude' 'dropoff_latitude' 'passenger_count']\n"
     ]
    }
   ],
   "source": [
    "# Read test data into memory.\n",
    "test = pd.read_csv('../input/new-york-city-taxi-fare-prediction/test.csv', index_col=False, delimiter=',', encoding='utf-8')\n",
    "\n",
    "# Display the dimensions of the dataset.\n",
    "rows = test.shape[0]\n",
    "columns = test.shape[1]\n",
    "feature_set = test.columns.values\n",
    "print('Total Number of Features: ', columns)\n",
    "print('Total Number of Instances: ', rows)\n",
    "print('Feature Set includes: ', feature_set) "
   ]
  },
  {
   "cell_type": "code",
   "execution_count": 28,
   "metadata": {},
   "outputs": [
    {
     "data": {
      "text/html": [
       "<div>\n",
       "<style scoped>\n",
       "    .dataframe tbody tr th:only-of-type {\n",
       "        vertical-align: middle;\n",
       "    }\n",
       "\n",
       "    .dataframe tbody tr th {\n",
       "        vertical-align: top;\n",
       "    }\n",
       "\n",
       "    .dataframe thead th {\n",
       "        text-align: right;\n",
       "    }\n",
       "</style>\n",
       "<table border=\"1\" class=\"dataframe\">\n",
       "  <thead>\n",
       "    <tr style=\"text-align: right;\">\n",
       "      <th></th>\n",
       "      <th>key</th>\n",
       "      <th>pickup_datetime</th>\n",
       "      <th>pickup_longitude</th>\n",
       "      <th>pickup_latitude</th>\n",
       "      <th>dropoff_longitude</th>\n",
       "      <th>dropoff_latitude</th>\n",
       "      <th>passenger_count</th>\n",
       "    </tr>\n",
       "  </thead>\n",
       "  <tbody>\n",
       "    <tr>\n",
       "      <th>0</th>\n",
       "      <td>2015-01-27 13:08:24.0000002</td>\n",
       "      <td>2015-01-27 13:08:24 UTC</td>\n",
       "      <td>-73.973</td>\n",
       "      <td>40.764</td>\n",
       "      <td>-73.981</td>\n",
       "      <td>40.744</td>\n",
       "      <td>1</td>\n",
       "    </tr>\n",
       "    <tr>\n",
       "      <th>1</th>\n",
       "      <td>2015-01-27 13:08:24.0000003</td>\n",
       "      <td>2015-01-27 13:08:24 UTC</td>\n",
       "      <td>-73.987</td>\n",
       "      <td>40.719</td>\n",
       "      <td>-73.999</td>\n",
       "      <td>40.739</td>\n",
       "      <td>1</td>\n",
       "    </tr>\n",
       "    <tr>\n",
       "      <th>2</th>\n",
       "      <td>2011-10-08 11:53:44.0000002</td>\n",
       "      <td>2011-10-08 11:53:44 UTC</td>\n",
       "      <td>-73.983</td>\n",
       "      <td>40.751</td>\n",
       "      <td>-73.980</td>\n",
       "      <td>40.746</td>\n",
       "      <td>1</td>\n",
       "    </tr>\n",
       "    <tr>\n",
       "      <th>3</th>\n",
       "      <td>2012-12-01 21:12:12.0000002</td>\n",
       "      <td>2012-12-01 21:12:12 UTC</td>\n",
       "      <td>-73.981</td>\n",
       "      <td>40.768</td>\n",
       "      <td>-73.990</td>\n",
       "      <td>40.752</td>\n",
       "      <td>1</td>\n",
       "    </tr>\n",
       "    <tr>\n",
       "      <th>4</th>\n",
       "      <td>2012-12-01 21:12:12.0000003</td>\n",
       "      <td>2012-12-01 21:12:12 UTC</td>\n",
       "      <td>-73.966</td>\n",
       "      <td>40.790</td>\n",
       "      <td>-73.989</td>\n",
       "      <td>40.744</td>\n",
       "      <td>1</td>\n",
       "    </tr>\n",
       "  </tbody>\n",
       "</table>\n",
       "</div>"
      ],
      "text/plain": [
       "                           key          pickup_datetime  pickup_longitude  \\\n",
       "0  2015-01-27 13:08:24.0000002  2015-01-27 13:08:24 UTC           -73.973   \n",
       "1  2015-01-27 13:08:24.0000003  2015-01-27 13:08:24 UTC           -73.987   \n",
       "2  2011-10-08 11:53:44.0000002  2011-10-08 11:53:44 UTC           -73.983   \n",
       "3  2012-12-01 21:12:12.0000002  2012-12-01 21:12:12 UTC           -73.981   \n",
       "4  2012-12-01 21:12:12.0000003  2012-12-01 21:12:12 UTC           -73.966   \n",
       "\n",
       "   pickup_latitude  dropoff_longitude  dropoff_latitude  passenger_count  \n",
       "0           40.764            -73.981            40.744                1  \n",
       "1           40.719            -73.999            40.739                1  \n",
       "2           40.751            -73.980            40.746                1  \n",
       "3           40.768            -73.990            40.752                1  \n",
       "4           40.790            -73.989            40.744                1  "
      ]
     },
     "execution_count": 28,
     "metadata": {},
     "output_type": "execute_result"
    }
   ],
   "source": [
    "# Preview the first 5 instances.\n",
    "test.head()"
   ]
  },
  {
   "cell_type": "code",
   "execution_count": 29,
   "metadata": {},
   "outputs": [
    {
     "name": "stdout",
     "output_type": "stream",
     "text": [
      "(9914, 12)\n"
     ]
    },
    {
     "data": {
      "text/html": [
       "<div>\n",
       "<style scoped>\n",
       "    .dataframe tbody tr th:only-of-type {\n",
       "        vertical-align: middle;\n",
       "    }\n",
       "\n",
       "    .dataframe tbody tr th {\n",
       "        vertical-align: top;\n",
       "    }\n",
       "\n",
       "    .dataframe thead th {\n",
       "        text-align: right;\n",
       "    }\n",
       "</style>\n",
       "<table border=\"1\" class=\"dataframe\">\n",
       "  <thead>\n",
       "    <tr style=\"text-align: right;\">\n",
       "      <th></th>\n",
       "      <th>pickup_longitude</th>\n",
       "      <th>pickup_latitude</th>\n",
       "      <th>dropoff_longitude</th>\n",
       "      <th>dropoff_latitude</th>\n",
       "      <th>passenger_count</th>\n",
       "      <th>year</th>\n",
       "      <th>month</th>\n",
       "      <th>day</th>\n",
       "      <th>weekday</th>\n",
       "      <th>hour</th>\n",
       "      <th>distance</th>\n",
       "      <th>JFK_distance</th>\n",
       "    </tr>\n",
       "  </thead>\n",
       "  <tbody>\n",
       "    <tr>\n",
       "      <th>0</th>\n",
       "      <td>-73.973</td>\n",
       "      <td>40.764</td>\n",
       "      <td>-73.981</td>\n",
       "      <td>40.744</td>\n",
       "      <td>1</td>\n",
       "      <td>2015</td>\n",
       "      <td>1</td>\n",
       "      <td>27</td>\n",
       "      <td>1</td>\n",
       "      <td>13</td>\n",
       "      <td>1.090</td>\n",
       "      <td>22.035</td>\n",
       "    </tr>\n",
       "    <tr>\n",
       "      <th>1</th>\n",
       "      <td>-73.987</td>\n",
       "      <td>40.719</td>\n",
       "      <td>-73.999</td>\n",
       "      <td>40.739</td>\n",
       "      <td>1</td>\n",
       "      <td>2015</td>\n",
       "      <td>1</td>\n",
       "      <td>27</td>\n",
       "      <td>1</td>\n",
       "      <td>13</td>\n",
       "      <td>1.469</td>\n",
       "      <td>23.338</td>\n",
       "    </tr>\n",
       "    <tr>\n",
       "      <th>2</th>\n",
       "      <td>-73.983</td>\n",
       "      <td>40.751</td>\n",
       "      <td>-73.980</td>\n",
       "      <td>40.746</td>\n",
       "      <td>1</td>\n",
       "      <td>2011</td>\n",
       "      <td>10</td>\n",
       "      <td>8</td>\n",
       "      <td>5</td>\n",
       "      <td>11</td>\n",
       "      <td>0.356</td>\n",
       "      <td>22.644</td>\n",
       "    </tr>\n",
       "    <tr>\n",
       "      <th>3</th>\n",
       "      <td>-73.981</td>\n",
       "      <td>40.768</td>\n",
       "      <td>-73.990</td>\n",
       "      <td>40.752</td>\n",
       "      <td>1</td>\n",
       "      <td>2012</td>\n",
       "      <td>12</td>\n",
       "      <td>1</td>\n",
       "      <td>5</td>\n",
       "      <td>21</td>\n",
       "      <td>1.146</td>\n",
       "      <td>22.915</td>\n",
       "    </tr>\n",
       "    <tr>\n",
       "      <th>4</th>\n",
       "      <td>-73.966</td>\n",
       "      <td>40.790</td>\n",
       "      <td>-73.989</td>\n",
       "      <td>40.744</td>\n",
       "      <td>1</td>\n",
       "      <td>2012</td>\n",
       "      <td>12</td>\n",
       "      <td>1</td>\n",
       "      <td>5</td>\n",
       "      <td>21</td>\n",
       "      <td>2.865</td>\n",
       "      <td>21.396</td>\n",
       "    </tr>\n",
       "  </tbody>\n",
       "</table>\n",
       "</div>"
      ],
      "text/plain": [
       "   pickup_longitude  pickup_latitude  dropoff_longitude  dropoff_latitude  \\\n",
       "0           -73.973           40.764            -73.981            40.744   \n",
       "1           -73.987           40.719            -73.999            40.739   \n",
       "2           -73.983           40.751            -73.980            40.746   \n",
       "3           -73.981           40.768            -73.990            40.752   \n",
       "4           -73.966           40.790            -73.989            40.744   \n",
       "\n",
       "   passenger_count  year  month  day  weekday  hour  distance  JFK_distance  \n",
       "0                1  2015      1   27        1    13     1.090        22.035  \n",
       "1                1  2015      1   27        1    13     1.469        23.338  \n",
       "2                1  2011     10    8        5    11     0.356        22.644  \n",
       "3                1  2012     12    1        5    21     1.146        22.915  \n",
       "4                1  2012     12    1        5    21     2.865        21.396  "
      ]
     },
     "execution_count": 29,
     "metadata": {},
     "output_type": "execute_result"
    }
   ],
   "source": [
    "# Prepare testing data.\n",
    "test_df = test.copy()\n",
    "test_df.drop(columns=['key'], axis=1, inplace=True)\n",
    "test_df['pickup_datetime'] = pd.to_datetime(test_df['pickup_datetime'])\n",
    "# test_df = test_df[(test_df['passenger_count']>0) & \n",
    "#         ((test_df['pickup_longitude']>-79.762) & (test_df['pickup_longitude']<-71.752)) & \n",
    "#         ((test_df['pickup_latitude']>40.477) & (test_df['pickup_latitude']<45.015)) & \n",
    "#         ((test_df['dropoff_longitude']>-79.762) & (test_df['dropoff_longitude']<-71.752)) & \n",
    "#         ((test_df['dropoff_latitude']>40.477) & (test_df['dropoff_latitude']<45.015))]     \n",
    "       \n",
    "# test_df = test_df.loc[test_df['passenger_count'] <= 6]  \n",
    "    \n",
    "test_df['year'] = test_df.pickup_datetime.dt.year    \n",
    "test_df['month'] = test_df.pickup_datetime.dt.month\n",
    "test_df['day'] = test_df.pickup_datetime.dt.day\n",
    "test_df['weekday'] = test_df.pickup_datetime.dt.weekday\n",
    "test_df['hour'] = test_df.pickup_datetime.dt.hour\n",
    "del test_df['pickup_datetime']        \n",
    "\n",
    "test_df['distance'] = haversine_np(test_df['pickup_latitude'], test_df['pickup_longitude'], \n",
    "                                   test_df['dropoff_latitude'], test_df['dropoff_longitude'])\n",
    "# test_df = test_df.loc[test_df['distance'] > 0]    \n",
    "pickup_JFK = haversine_np(test_df['pickup_latitude'], test_df['pickup_longitude'], JFK_coord[0], JFK_coord[1]) \n",
    "dropoff_JFK = haversine_np(JFK_coord[0], JFK_coord[1], test_df['dropoff_latitude'], test_df['dropoff_longitude'])\n",
    "test_df['JFK_distance'] = pd.concat([pickup_JFK, dropoff_JFK], axis=1).min(axis=1)\n",
    "print(test_df.shape)\n",
    "test_df.head()"
   ]
  },
  {
   "cell_type": "markdown",
   "metadata": {},
   "source": [
    "### 6.2 Use DL model on testing data"
   ]
  },
  {
   "cell_type": "code",
   "execution_count": 30,
   "metadata": {},
   "outputs": [
    {
     "data": {
      "text/html": [
       "<div>\n",
       "<style scoped>\n",
       "    .dataframe tbody tr th:only-of-type {\n",
       "        vertical-align: middle;\n",
       "    }\n",
       "\n",
       "    .dataframe tbody tr th {\n",
       "        vertical-align: top;\n",
       "    }\n",
       "\n",
       "    .dataframe thead th {\n",
       "        text-align: right;\n",
       "    }\n",
       "</style>\n",
       "<table border=\"1\" class=\"dataframe\">\n",
       "  <thead>\n",
       "    <tr style=\"text-align: right;\">\n",
       "      <th></th>\n",
       "      <th>key</th>\n",
       "      <th>fare_amount</th>\n",
       "    </tr>\n",
       "  </thead>\n",
       "  <tbody>\n",
       "    <tr>\n",
       "      <th>0</th>\n",
       "      <td>2015-01-27 13:08:24.0000002</td>\n",
       "      <td>7.573</td>\n",
       "    </tr>\n",
       "    <tr>\n",
       "      <th>1</th>\n",
       "      <td>2015-01-27 13:08:24.0000003</td>\n",
       "      <td>8.551</td>\n",
       "    </tr>\n",
       "    <tr>\n",
       "      <th>2</th>\n",
       "      <td>2011-10-08 11:53:44.0000002</td>\n",
       "      <td>6.149</td>\n",
       "    </tr>\n",
       "    <tr>\n",
       "      <th>3</th>\n",
       "      <td>2012-12-01 21:12:12.0000002</td>\n",
       "      <td>8.185</td>\n",
       "    </tr>\n",
       "    <tr>\n",
       "      <th>4</th>\n",
       "      <td>2012-12-01 21:12:12.0000003</td>\n",
       "      <td>11.920</td>\n",
       "    </tr>\n",
       "  </tbody>\n",
       "</table>\n",
       "</div>"
      ],
      "text/plain": [
       "                           key  fare_amount\n",
       "0  2015-01-27 13:08:24.0000002        7.573\n",
       "1  2015-01-27 13:08:24.0000003        8.551\n",
       "2  2011-10-08 11:53:44.0000002        6.149\n",
       "3  2012-12-01 21:12:12.0000002        8.185\n",
       "4  2012-12-01 21:12:12.0000003       11.920"
      ]
     },
     "execution_count": 30,
     "metadata": {},
     "output_type": "execute_result"
    }
   ],
   "source": [
    "# predict results\n",
    "estimator.fit(X, y)\n",
    "results = estimator.predict(test_df)\n",
    "\n",
    "submission = pd.DataFrame({'key': test.key, 'fare_amount': results}, columns = ['key', 'fare_amount'])\n",
    "submission.head()"
   ]
  },
  {
   "cell_type": "code",
   "execution_count": 31,
   "metadata": {},
   "outputs": [
    {
     "name": "stdout",
     "output_type": "stream",
     "text": [
      "['submission.csv', '__notebook__.ipynb']\n"
     ]
    }
   ],
   "source": [
    "submission.to_csv('submission.csv', index = False)\n",
    "print(os.listdir('.'))"
   ]
  },
  {
   "cell_type": "code",
   "execution_count": null,
   "metadata": {},
   "outputs": [],
   "source": []
  }
 ],
 "metadata": {
  "kernelspec": {
   "display_name": "Python 3",
   "language": "python",
   "name": "python3"
  },
  "language_info": {
   "codemirror_mode": {
    "name": "ipython",
    "version": 3
   },
   "file_extension": ".py",
   "mimetype": "text/x-python",
   "name": "python",
   "nbconvert_exporter": "python",
   "pygments_lexer": "ipython3",
   "version": "3.6.6"
  }
 },
 "nbformat": 4,
 "nbformat_minor": 4
}
